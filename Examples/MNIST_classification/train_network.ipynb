{
 "cells": [
  {
   "cell_type": "code",
   "execution_count": 1,
   "metadata": {},
   "outputs": [],
   "source": [
    "# TensorFlow and tf.keras\n",
    "import tensorflow as tf\n",
    "from tensorflow import keras\n",
    "import os\n",
    "from IPython.display import clear_output"
   ]
  },
  {
   "cell_type": "code",
   "execution_count": 2,
   "metadata": {},
   "outputs": [],
   "source": [
    "# Helper libraries\n",
    "import numpy as np\n",
    "import random\n",
    "%matplotlib inline\n",
    "import matplotlib\n",
    "# matplotlib.use('TkAgg')# Backend needed for the Mac virtual env\n",
    "import matplotlib.pyplot as plt"
   ]
  },
  {
   "cell_type": "code",
   "execution_count": 3,
   "metadata": {},
   "outputs": [],
   "source": [
    "# Set seeds for reproducibilty\n",
    "def seed_random_number(seed):\n",
    "    # see https://stackoverflow.com/a/52897216\n",
    "    np.random.seed(seed)\n",
    "    tf.set_random_seed(seed)\n",
    "    os.environ['PYTHONHASHSEED']=str(seed)\n",
    "    random.seed(seed)\n",
    "\n",
    "random_seed = 1\n",
    "seed_random_number(random_seed)\n",
    "\n",
    "#####################\n",
    "# from keras import backend as K\n",
    "# # see https://stackoverflow.com/a/52897216 we really need singlethread to get\n",
    "# # reproducible results!\n",
    "# session_conf = tensorflow.ConfigProto(intra_op_parallelism_threads=1, inter_op_parallelism_threads=1)\n",
    "# sess = tensorflow.Session(graph=tensorflow.get_default_graph(), config=session_conf)\n",
    "# K.set_session(sess)"
   ]
  },
  {
   "cell_type": "code",
   "execution_count": 4,
   "metadata": {},
   "outputs": [
    {
     "name": "stdout",
     "output_type": "stream",
     "text": [
      "(60000, 28, 28)\n"
     ]
    }
   ],
   "source": [
    "# Data set:\n",
    "# BnW 28x28 pixel handwritten images of digits\n",
    "# 60000 training samples, 10000 test samples\n",
    "\n",
    "# Importing data from MNIST server\n",
    "# mnist = keras.datasets.mnist\n",
    "#(train_images, train_labels), (test_images, test_labels) = mnist.load_data()\n",
    "\n",
    "# Import data locally\n",
    "train_images = np.load('Data/train_data.npy')\n",
    "train_labels = np.load('Data/train_data_label.npy')\n",
    "test_images  = np.load('Data/test_data.npy')\n",
    "test_labels  = np.load('Data/test_data_labels.npy')\n",
    "print(train_images.shape)"
   ]
  },
  {
   "cell_type": "code",
   "execution_count": 5,
   "metadata": {},
   "outputs": [
    {
     "data": {
      "image/png": "[encoded data removed]",
      "text/plain": [
       "<Figure size 720x720 with 25 Axes>"
      ]
     },
     "metadata": {},
     "output_type": "display_data"
    }
   ],
   "source": [
    "# Visualize a few of the images\n",
    "plt.figure(figsize=(10,10))\n",
    "for i in range(25):\n",
    "    plt.subplot(5,5,i+1)\n",
    "    plt.xticks([])\n",
    "    plt.yticks([])\n",
    "    plt.grid(False)\n",
    "    plt.imshow(train_images[i], cmap=plt.cm.binary)\n",
    "plt.show()    "
   ]
  },
  {
   "cell_type": "code",
   "execution_count": 6,
   "metadata": {},
   "outputs": [
    {
     "name": "stdout",
     "output_type": "stream",
     "text": [
      "_________________________________________________________________\n",
      "Layer (type)                 Output Shape              Param #   \n",
      "=================================================================\n",
      "flatten (Flatten)            (None, 784)               0         \n",
      "_________________________________________________________________\n",
      "dense (Dense)                (None, 10)                7850      \n",
      "_________________________________________________________________\n",
      "dense_1 (Dense)              (None, 10)                110       \n",
      "_________________________________________________________________\n",
      "dense_2 (Dense)              (None, 10)                110       \n",
      "_________________________________________________________________\n",
      "dense_3 (Dense)              (None, 10)                110       \n",
      "=================================================================\n",
      "Total params: 8,180\n",
      "Trainable params: 8,180\n",
      "Non-trainable params: 0\n",
      "_________________________________________________________________\n"
     ]
    }
   ],
   "source": [
    "# Function describing network architecture\n",
    "def create_model():\n",
    "  model = keras.Sequential([\n",
    "          keras.layers.Flatten(input_shape=(28, 28)),\n",
    "          keras.layers.Dense(10, activation=tf.nn.relu, use_bias=True, kernel_initializer='RandomNormal', bias_initializer='RandomNormal'),\n",
    "          keras.layers.Dense(10, activation=tf.nn.relu, use_bias=True, kernel_initializer='RandomNormal', bias_initializer='RandomNormal'),\n",
    "          keras.layers.Dense(10, activation=tf.nn.relu, use_bias=True, kernel_initializer='RandomNormal', bias_initializer='RandomNormal'),\n",
    "          keras.layers.Dense(10, activation=tf.nn.softmax, use_bias=True, kernel_initializer='RandomNormal', bias_initializer='RandomNormal')\n",
    "  ])\n",
    "  \n",
    "  model.compile(optimizer=tf.train.AdamOptimizer(), \n",
    "                loss='sparse_categorical_crossentropy',\n",
    "                metrics=['accuracy'])\n",
    "  \n",
    "  return model\n",
    "\n",
    "model = create_model()\n",
    "model.summary()\n",
    "#model.get_weights()"
   ]
  },
  {
   "cell_type": "code",
   "execution_count": 10,
   "metadata": {},
   "outputs": [
    {
     "name": "stdout",
     "output_type": "stream",
     "text": [
      "Train on 48000 samples, validate on 12000 samples\n",
      "Epoch 11/100\n",
      " - 2s - loss: 0.1943 - acc: 0.9430 - val_loss: 0.2191 - val_acc: 0.9374\n",
      "Epoch 12/100\n",
      " - 2s - loss: 0.1873 - acc: 0.9448 - val_loss: 0.2225 - val_acc: 0.9405\n",
      "Epoch 13/100\n",
      " - 2s - loss: 0.1859 - acc: 0.9457 - val_loss: 0.2345 - val_acc: 0.9318\n",
      "Epoch 14/100\n",
      " - 2s - loss: 0.1900 - acc: 0.9440 - val_loss: 0.2160 - val_acc: 0.9406\n",
      "Epoch 15/100\n",
      " - 2s - loss: 0.1844 - acc: 0.9449 - val_loss: 0.2165 - val_acc: 0.9406\n",
      "Epoch 16/100\n",
      " - 2s - loss: 0.1799 - acc: 0.9477 - val_loss: 0.2128 - val_acc: 0.9415\n",
      "Epoch 17/100\n",
      " - 2s - loss: 0.1788 - acc: 0.9475 - val_loss: 0.2490 - val_acc: 0.9301\n",
      "Epoch 18/100\n",
      " - 2s - loss: 0.1778 - acc: 0.9472 - val_loss: 0.2211 - val_acc: 0.9402\n",
      "Epoch 19/100\n",
      " - 2s - loss: 0.1742 - acc: 0.9490 - val_loss: 0.2159 - val_acc: 0.9405\n",
      "Epoch 20/100\n",
      " - 2s - loss: 0.1759 - acc: 0.9480 - val_loss: 0.2308 - val_acc: 0.9375\n",
      "Epoch 21/100\n",
      " - 2s - loss: 0.1724 - acc: 0.9487 - val_loss: 0.2186 - val_acc: 0.9394\n",
      "Epoch 22/100\n",
      " - 2s - loss: 0.1722 - acc: 0.9484 - val_loss: 0.2347 - val_acc: 0.9358\n",
      "Epoch 23/100\n",
      " - 2s - loss: 0.1694 - acc: 0.9500 - val_loss: 0.2599 - val_acc: 0.9285\n",
      "Epoch 24/100\n",
      " - 2s - loss: 0.1722 - acc: 0.9485 - val_loss: 0.2318 - val_acc: 0.9385\n",
      "Epoch 25/100\n",
      " - 2s - loss: 0.1676 - acc: 0.9492 - val_loss: 0.2573 - val_acc: 0.9324\n",
      "Epoch 26/100\n",
      " - 2s - loss: 0.1676 - acc: 0.9501 - val_loss: 0.2188 - val_acc: 0.9407\n",
      "Epoch 27/100\n",
      " - 2s - loss: 0.1649 - acc: 0.9506 - val_loss: 0.2332 - val_acc: 0.9366\n",
      "Epoch 28/100\n",
      " - 2s - loss: 0.1637 - acc: 0.9513 - val_loss: 0.2299 - val_acc: 0.9373\n",
      "Epoch 29/100\n",
      " - 2s - loss: 0.1659 - acc: 0.9494 - val_loss: 0.2349 - val_acc: 0.9359\n",
      "Epoch 30/100\n",
      " - 2s - loss: 0.1607 - acc: 0.9514 - val_loss: 0.2269 - val_acc: 0.9402\n",
      "Epoch 31/100\n",
      " - 2s - loss: 0.1612 - acc: 0.9525 - val_loss: 0.2273 - val_acc: 0.9387\n",
      "Epoch 32/100\n",
      " - 2s - loss: 0.1621 - acc: 0.9519 - val_loss: 0.2178 - val_acc: 0.9413\n",
      "Epoch 33/100\n",
      " - 2s - loss: 0.1588 - acc: 0.9528 - val_loss: 0.2316 - val_acc: 0.9369\n",
      "Epoch 34/100\n",
      " - 2s - loss: 0.1594 - acc: 0.9519 - val_loss: 0.2387 - val_acc: 0.9364\n",
      "Epoch 35/100\n",
      " - 2s - loss: 0.1584 - acc: 0.9531 - val_loss: 0.2394 - val_acc: 0.9366\n",
      "Epoch 36/100\n",
      " - 2s - loss: 0.1587 - acc: 0.9517 - val_loss: 0.2232 - val_acc: 0.9407\n",
      "Epoch 37/100\n",
      " - 2s - loss: 0.1550 - acc: 0.9531 - val_loss: 0.2536 - val_acc: 0.9333\n",
      "Epoch 38/100\n",
      " - 2s - loss: 0.1586 - acc: 0.9522 - val_loss: 0.2380 - val_acc: 0.9370\n",
      "Epoch 39/100\n",
      " - 2s - loss: 0.1517 - acc: 0.9541 - val_loss: 0.2462 - val_acc: 0.9357\n",
      "Epoch 40/100\n",
      " - 2s - loss: 0.1552 - acc: 0.9516 - val_loss: 0.2343 - val_acc: 0.9370\n",
      "Epoch 41/100\n",
      " - 2s - loss: 0.1572 - acc: 0.9517 - val_loss: 0.2312 - val_acc: 0.9426\n",
      "Epoch 42/100\n",
      " - 2s - loss: 0.1532 - acc: 0.9537 - val_loss: 0.2557 - val_acc: 0.9337\n",
      "Epoch 43/100\n",
      " - 2s - loss: 0.1525 - acc: 0.9542 - val_loss: 0.2341 - val_acc: 0.9389\n",
      "Epoch 44/100\n",
      " - 2s - loss: 0.1505 - acc: 0.9552 - val_loss: 0.2415 - val_acc: 0.9386\n",
      "Epoch 45/100\n",
      " - 2s - loss: 0.1527 - acc: 0.9531 - val_loss: 0.2438 - val_acc: 0.9361\n",
      "Epoch 46/100\n",
      " - 2s - loss: 0.1496 - acc: 0.9535 - val_loss: 0.2535 - val_acc: 0.9345\n",
      "Epoch 47/100\n",
      " - 2s - loss: 0.1530 - acc: 0.9535 - val_loss: 0.2513 - val_acc: 0.9380\n",
      "Epoch 48/100\n",
      " - 2s - loss: 0.1496 - acc: 0.9545 - val_loss: 0.2439 - val_acc: 0.9373\n",
      "Epoch 49/100\n",
      " - 2s - loss: 0.1511 - acc: 0.9537 - val_loss: 0.2305 - val_acc: 0.9403\n",
      "Epoch 50/100\n",
      " - 2s - loss: 0.1486 - acc: 0.9552 - val_loss: 0.2407 - val_acc: 0.9384\n",
      "Epoch 51/100\n",
      " - 2s - loss: 0.1501 - acc: 0.9549 - val_loss: 0.2686 - val_acc: 0.9323\n",
      "Epoch 52/100\n",
      " - 2s - loss: 0.1502 - acc: 0.9548 - val_loss: 0.2601 - val_acc: 0.9334\n",
      "Epoch 53/100\n",
      " - 2s - loss: 0.1456 - acc: 0.9562 - val_loss: 0.2501 - val_acc: 0.9355\n",
      "Epoch 54/100\n",
      " - 2s - loss: 0.1484 - acc: 0.9559 - val_loss: 0.2511 - val_acc: 0.9369\n",
      "Epoch 55/100\n",
      " - 2s - loss: 0.1481 - acc: 0.9559 - val_loss: 0.2632 - val_acc: 0.9302\n",
      "Epoch 56/100\n",
      " - 2s - loss: 0.1449 - acc: 0.9565 - val_loss: 0.2571 - val_acc: 0.9318\n",
      "Epoch 57/100\n",
      " - 2s - loss: 0.1473 - acc: 0.9545 - val_loss: 0.2478 - val_acc: 0.9379\n",
      "Epoch 58/100\n",
      " - 2s - loss: 0.1482 - acc: 0.9548 - val_loss: 0.2813 - val_acc: 0.9253\n",
      "Epoch 59/100\n",
      " - 2s - loss: 0.1438 - acc: 0.9559 - val_loss: 0.2379 - val_acc: 0.9385\n",
      "Epoch 60/100\n",
      " - 2s - loss: 0.1451 - acc: 0.9552 - val_loss: 0.2357 - val_acc: 0.9392\n",
      "Epoch 61/100\n",
      " - 2s - loss: 0.1437 - acc: 0.9557 - val_loss: 0.2472 - val_acc: 0.9350\n",
      "Epoch 62/100\n",
      " - 2s - loss: 0.1440 - acc: 0.9561 - val_loss: 0.2537 - val_acc: 0.9364\n",
      "Epoch 63/100\n",
      " - 2s - loss: 0.1442 - acc: 0.9567 - val_loss: 0.2617 - val_acc: 0.9328\n",
      "Epoch 64/100\n",
      " - 2s - loss: 0.1438 - acc: 0.9558 - val_loss: 0.2542 - val_acc: 0.9361\n",
      "Epoch 65/100\n",
      " - 2s - loss: 0.1440 - acc: 0.9560 - val_loss: 0.2497 - val_acc: 0.9356\n",
      "Epoch 66/100\n",
      " - 2s - loss: 0.1415 - acc: 0.9564 - val_loss: 0.2494 - val_acc: 0.9397\n",
      "Epoch 67/100\n",
      " - 2s - loss: 0.1438 - acc: 0.9567 - val_loss: 0.2591 - val_acc: 0.9347\n",
      "Epoch 68/100\n",
      " - 2s - loss: 0.1425 - acc: 0.9570 - val_loss: 0.2518 - val_acc: 0.9356\n",
      "Epoch 69/100\n",
      " - 2s - loss: 0.1388 - acc: 0.9580 - val_loss: 0.2748 - val_acc: 0.9289\n",
      "Epoch 70/100\n",
      " - 2s - loss: 0.1435 - acc: 0.9562 - val_loss: 0.2477 - val_acc: 0.9357\n",
      "Epoch 71/100\n",
      " - 2s - loss: 0.1434 - acc: 0.9570 - val_loss: 0.2407 - val_acc: 0.9374\n",
      "Epoch 72/100\n",
      " - 2s - loss: 0.1397 - acc: 0.9578 - val_loss: 0.2668 - val_acc: 0.9332\n",
      "Epoch 73/100\n",
      " - 2s - loss: 0.1400 - acc: 0.9575 - val_loss: 0.2911 - val_acc: 0.9261\n",
      "Epoch 74/100\n",
      " - 2s - loss: 0.1399 - acc: 0.9572 - val_loss: 0.2521 - val_acc: 0.9347\n",
      "Epoch 75/100\n",
      " - 2s - loss: 0.1408 - acc: 0.9569 - val_loss: 0.2774 - val_acc: 0.9299\n",
      "Epoch 76/100\n",
      " - 2s - loss: 0.1407 - acc: 0.9567 - val_loss: 0.2498 - val_acc: 0.9349\n",
      "Epoch 77/100\n",
      " - 2s - loss: 0.1391 - acc: 0.9568 - val_loss: 0.2828 - val_acc: 0.9304\n",
      "Epoch 78/100\n",
      " - 2s - loss: 0.1382 - acc: 0.9579 - val_loss: 0.2506 - val_acc: 0.9384\n",
      "Epoch 79/100\n",
      " - 2s - loss: 0.1407 - acc: 0.9582 - val_loss: 0.2721 - val_acc: 0.9327\n",
      "Epoch 80/100\n",
      " - 2s - loss: 0.1384 - acc: 0.9570 - val_loss: 0.2557 - val_acc: 0.9373\n",
      "Epoch 81/100\n",
      " - 2s - loss: 0.1372 - acc: 0.9584 - val_loss: 0.2592 - val_acc: 0.9357\n",
      "Epoch 82/100\n",
      " - 2s - loss: 0.1374 - acc: 0.9578 - val_loss: 0.2621 - val_acc: 0.9374\n",
      "Epoch 83/100\n",
      " - 2s - loss: 0.1397 - acc: 0.9577 - val_loss: 0.2658 - val_acc: 0.9330\n",
      "Epoch 84/100\n",
      " - 2s - loss: 0.1379 - acc: 0.9575 - val_loss: 0.2933 - val_acc: 0.9286\n",
      "Epoch 85/100\n",
      " - 2s - loss: 0.1396 - acc: 0.9578 - val_loss: 0.2534 - val_acc: 0.9370\n",
      "Epoch 86/100\n",
      " - 2s - loss: 0.1371 - acc: 0.9590 - val_loss: 0.2738 - val_acc: 0.9317\n",
      "Epoch 87/100\n",
      " - 2s - loss: 0.1372 - acc: 0.9579 - val_loss: 0.2586 - val_acc: 0.9367\n",
      "Epoch 88/100\n",
      " - 2s - loss: 0.1373 - acc: 0.9576 - val_loss: 0.2535 - val_acc: 0.9374\n",
      "Epoch 89/100\n",
      " - 2s - loss: 0.1375 - acc: 0.9586 - val_loss: 0.2568 - val_acc: 0.9359\n",
      "Epoch 90/100\n",
      " - 2s - loss: 0.1370 - acc: 0.9581 - val_loss: 0.2575 - val_acc: 0.9342\n",
      "Epoch 91/100\n",
      " - 2s - loss: 0.1358 - acc: 0.9582 - val_loss: 0.2652 - val_acc: 0.9353\n",
      "Epoch 92/100\n",
      " - 2s - loss: 0.1342 - acc: 0.9583 - val_loss: 0.2741 - val_acc: 0.9331\n",
      "Epoch 93/100\n",
      " - 2s - loss: 0.1373 - acc: 0.9572 - val_loss: 0.2801 - val_acc: 0.9329\n",
      "Epoch 94/100\n",
      " - 2s - loss: 0.1366 - acc: 0.9578 - val_loss: 0.2851 - val_acc: 0.9310\n",
      "Epoch 95/100\n",
      " - 2s - loss: 0.1336 - acc: 0.9574 - val_loss: 0.2612 - val_acc: 0.9365\n",
      "Epoch 96/100\n",
      " - 2s - loss: 0.1360 - acc: 0.9584 - val_loss: 0.2956 - val_acc: 0.9291\n",
      "Epoch 97/100\n",
      " - 2s - loss: 0.1353 - acc: 0.9588 - val_loss: 0.2824 - val_acc: 0.9340\n",
      "Epoch 98/100\n",
      " - 2s - loss: 0.1342 - acc: 0.9596 - val_loss: 0.3278 - val_acc: 0.9198\n",
      "Epoch 99/100\n",
      " - 2s - loss: 0.1347 - acc: 0.9589 - val_loss: 0.2858 - val_acc: 0.9324\n",
      "Epoch 100/100\n",
      " - 2s - loss: 0.1346 - acc: 0.9592 - val_loss: 0.3115 - val_acc: 0.9225\n"
     ]
    },
    {
     "data": {
      "text/plain": [
       "<tensorflow.python.keras.callbacks.History at 0x11ddb3f10>"
      ]
     },
     "execution_count": 10,
     "metadata": {},
     "output_type": "execute_result"
    }
   ],
   "source": [
    "# Training\n",
    "# model.fit(train_images, train_labels, epochs=10, verbose=1, batch_size=32)\n",
    "model.fit(train_images, \n",
    "          train_labels, \n",
    "          epochs=100, \n",
    "          verbose=2, \n",
    "          batch_size=32, \n",
    "          shuffle=True, \n",
    "          validation_split=0.2,\n",
    "          initial_epoch=10\n",
    "          )"
   ]
  },
  {
   "cell_type": "code",
   "execution_count": 11,
   "metadata": {},
   "outputs": [
    {
     "name": "stdout",
     "output_type": "stream",
     "text": [
      "10000/10000 [==============================] - 0s 18us/step\n",
      "('Test accuracy:', 0.9282)\n"
     ]
    }
   ],
   "source": [
    "# Test accuracy of trained model\n",
    "test_loss, test_acc = model.evaluate(test_images, test_labels)\n",
    "print('Test accuracy:', test_acc)"
   ]
  },
  {
   "cell_type": "code",
   "execution_count": 12,
   "metadata": {
    "scrolled": true
   },
   "outputs": [
    {
     "data": {
      "image/png": "[encoded data removed]",
      "text/plain": [
       "<Figure size 864x1440 with 60 Axes>"
      ]
     },
     "metadata": {},
     "output_type": "display_data"
    }
   ],
   "source": [
    "# Making predictions\n",
    "\n",
    "def plot_image(i, predictions_array, true_label, img):\n",
    "  predictions_array, true_label, img = predictions_array[i], true_label[i], img[i]\n",
    "  plt.grid(False)\n",
    "  plt.xticks([])\n",
    "  plt.yticks([])\n",
    "  \n",
    "  plt.imshow(img, cmap=plt.cm.binary)\n",
    "\n",
    "  predicted_label = np.argmax(predictions_array)\n",
    "  if predicted_label == true_label:\n",
    "    color = 'blue'\n",
    "  else:\n",
    "    color = 'red'\n",
    "  \n",
    "  plt.xlabel(\"{:2.0f}% ({})\".format(100*np.max(predictions_array),\n",
    "                                    predicted_label),\n",
    "                                    color=color)\n",
    "\n",
    "def plot_value_array(i, predictions_array, true_label):\n",
    "  predictions_array, true_label = predictions_array[i], true_label[i]\n",
    "  plt.grid(False)\n",
    "  plt.xticks([])\n",
    "  plt.yticks([])\n",
    "  thisplot = plt.bar(range(10), predictions_array, color=\"#777777\")\n",
    "  plt.ylim([0, 1]) \n",
    "  predicted_label = np.argmax(predictions_array)\n",
    " \n",
    "  thisplot[predicted_label].set_color('red')\n",
    "  thisplot[true_label].set_color('blue')\n",
    "\n",
    "\n",
    "predictions = model.predict(test_images)  \n",
    "# Plot the first X test images, their predicted label, and the true label\n",
    "# Color correct predictions in blue, incorrect predictions in red\n",
    "num_rows = 10\n",
    "num_cols = 3\n",
    "num_images = num_rows*num_cols\n",
    "plt.figure(figsize=(2*2*num_cols, 2*num_rows))\n",
    "for i in range(num_images):\n",
    "  plt.subplot(num_rows, 2*num_cols, 2*i+1)\n",
    "  plot_image(i, predictions, test_labels, test_images)\n",
    "  plt.subplot(num_rows, 2*num_cols, 2*i+2)\n",
    "  plot_value_array(i, predictions, test_labels)"
   ]
  },
  {
   "cell_type": "code",
   "execution_count": null,
   "metadata": {},
   "outputs": [],
   "source": []
  },
  {
   "cell_type": "code",
   "execution_count": null,
   "metadata": {},
   "outputs": [],
   "source": []
  }
 ],
 "metadata": {
  "kernelspec": {
   "display_name": "dl_venv",
   "language": "python",
   "name": "dl_venv"
  },
  "language_info": {
   "codemirror_mode": {
    "name": "ipython",
    "version": 2
   },
   "file_extension": ".py",
   "mimetype": "text/x-python",
   "name": "python",
   "nbconvert_exporter": "python",
   "pygments_lexer": "ipython2",
   "version": "2.7.14"
  }
 },
 "nbformat": 4,
 "nbformat_minor": 2
}
