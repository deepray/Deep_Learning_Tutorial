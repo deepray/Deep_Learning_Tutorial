{
 "cells": [
  {
   "cell_type": "code",
   "execution_count": null,
   "metadata": {},
   "outputs": [],
   "source": [
    "# Load libraries\n",
    "import numpy as np\n",
    "%matplotlib inline\n",
    "import matplotlib\n",
    "import matplotlib.pyplot as plt"
   ]
  },
  {
   "cell_type": "code",
   "execution_count": null,
   "metadata": {},
   "outputs": [],
   "source": [
    "# Function to create labels for points seprated by quads (5 classes)\n",
    "def datasep(X):\n",
    "    [m,n] = X.shape\n",
    "    label = np.zeros((m,1)).astype(int)\n",
    "    for i in range(m):\n",
    "        if X[i,0] > -0.5 and X[i,0] <= -0.2 and X[i,1] > -0.2 and X[i,1] <=0.5:\n",
    "            label[i,0] = 1\n",
    "        elif X[i,0] > -0.5 and X[i,0] <= -0.5 and X[i,1] > -0.5 and X[i,1] <=-0.2: \n",
    "            label[i,0] = 2\n",
    "        elif X[i,0] > -0.2 and X[i,0] <= 0.2 and X[i,1] > -0.2 and X[i,1] <=0.2: \n",
    "            label[i,0] = 3    \n",
    "        elif abs(X[i,0]) > 0.5 or abs(X[i,1]) > 0.5: \n",
    "            label[i,0] = 4    \n",
    "    return label\n"
   ]
  },
  {
   "cell_type": "code",
   "execution_count": null,
   "metadata": {},
   "outputs": [],
   "source": [
    "# Generate and visualize data\n",
    "Ndata  = 10000\n",
    "X      = np.random.uniform(-1,1,(Ndata,2))\n",
    "Label  = datasep(X)\n",
    "\n",
    "colors = ['red','green','blue','purple','orange']\n",
    "clist  = [colors[j] for j in Label[:,0]]\n",
    "\n",
    "fig = plt.figure(figsize=(8,8))\n",
    "plt.scatter(X[:,0], X[:,1], c=clist, cmap=matplotlib.colors.ListedColormap(colors))   "
   ]
  },
  {
   "cell_type": "code",
   "execution_count": null,
   "metadata": {},
   "outputs": [],
   "source": [
    "# Save data\n",
    "np.save(\"Inputs\",X)\n",
    "np.save(\"Labels\",Label)"
   ]
  },
  {
   "cell_type": "code",
   "execution_count": null,
   "metadata": {},
   "outputs": [],
   "source": []
  }
 ],
 "metadata": {
  "kernelspec": {
   "display_name": "dl_venv",
   "language": "python",
   "name": "dl_venv"
  },
  "language_info": {
   "codemirror_mode": {
    "name": "ipython",
    "version": 2
   },
   "file_extension": ".py",
   "mimetype": "text/x-python",
   "name": "python",
   "nbconvert_exporter": "python",
   "pygments_lexer": "ipython2",
   "version": "2.7.14"
  }
 },
 "nbformat": 4,
 "nbformat_minor": 2
}
