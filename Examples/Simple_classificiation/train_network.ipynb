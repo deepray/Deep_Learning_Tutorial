{
 "cells": [
  {
   "cell_type": "code",
   "execution_count": null,
   "metadata": {},
   "outputs": [],
   "source": [
    "# TensorFlow and tf.keras\n",
    "import tensorflow as tf\n",
    "from tensorflow import keras\n",
    "import os\n",
    "from IPython.display import clear_output"
   ]
  },
  {
   "cell_type": "code",
   "execution_count": null,
   "metadata": {},
   "outputs": [],
   "source": [
    "# Helper libraries\n",
    "import numpy as np\n",
    "import random\n",
    "%matplotlib inline\n",
    "import matplotlib\n",
    "# matplotlib.use('TkAgg')# Backend needed for the Mac virtual env\n",
    "import matplotlib.pyplot as plt"
   ]
  },
  {
   "cell_type": "code",
   "execution_count": null,
   "metadata": {},
   "outputs": [],
   "source": [
    "# Set seeds for reproducibilty\n",
    "def seed_random_number(seed):\n",
    "    # see https://stackoverflow.com/a/52897216\n",
    "    np.random.seed(seed)\n",
    "    tf.set_random_seed(seed)\n",
    "    os.environ['PYTHONHASHSEED']=str(seed)\n",
    "    random.seed(seed)\n",
    "\n",
    "random_seed = 1\n",
    "seed_random_number(random_seed)\n",
    "\n",
    "#####################\n",
    "# from keras import backend as K\n",
    "# # see https://stackoverflow.com/a/52897216 we really need singlethread to get\n",
    "# # reproducible results!\n",
    "# session_conf = tensorflow.ConfigProto(intra_op_parallelism_threads=1, inter_op_parallelism_threads=1)\n",
    "# sess = tensorflow.Session(graph=tensorflow.get_default_graph(), config=session_conf)\n",
    "# K.set_session(sess)"
   ]
  },
  {
   "cell_type": "code",
   "execution_count": null,
   "metadata": {},
   "outputs": [],
   "source": [
    "# Import data set:\n",
    "Inputs = np.load('Data/Inputs.npy')\n",
    "Labels = np.load('Data/Labels.npy')\n",
    "Ndata  = len(Labels[:,0])"
   ]
  },
  {
   "cell_type": "code",
   "execution_count": null,
   "metadata": {},
   "outputs": [],
   "source": [
    "# Visualize data\n",
    "colors = ['red','green','blue','purple','orange']\n",
    "clist  = [colors[j] for j in Labels[:,0]]\n",
    "\n",
    "fig = plt.figure(figsize=(8,8))\n",
    "plt.scatter(Inputs[:,0], Inputs[:,1], c=clist, cmap=matplotlib.colors.ListedColormap(colors))  "
   ]
  },
  {
   "cell_type": "code",
   "execution_count": null,
   "metadata": {},
   "outputs": [],
   "source": [
    "# Segregate data in training and testing data\n",
    "Ntrain      = 512\n",
    "Train_Input = Inputs[0:Ntrain,:]\n",
    "Train_Label = Labels[0:Ntrain,:]\n",
    "Test_Input  = Inputs[Ntrain::,:]\n",
    "Test_Label  = Labels[Ntrain::,:]"
   ]
  },
  {
   "cell_type": "code",
   "execution_count": null,
   "metadata": {},
   "outputs": [],
   "source": [
    "# Clear keras sessions\n",
    "keras.backend.clear_session()\n",
    "\n",
    "# Create network\n",
    "def create_model(): \n",
    "  model = keras.Sequential([\n",
    "          keras.layers.Dense(2, input_shape = (2,), activation=tf.nn.relu, use_bias=True, kernel_initializer='RandomNormal', bias_initializer='RandomNormal'),\n",
    "          keras.layers.Dense(2, activation=tf.nn.relu, use_bias=True, kernel_initializer='RandomNormal', bias_initializer='RandomNormal'),\n",
    "          keras.layers.Dense(5, activation=tf.nn.softmax, use_bias=True, kernel_initializer='RandomNormal', bias_initializer='RandomNormal')\n",
    "  ])\n",
    "  \n",
    "  model.compile(optimizer=keras.optimizers.Adam(lr=0.0001), \n",
    "                loss='sparse_categorical_crossentropy',\n",
    "                metrics=['accuracy'])\n",
    "  \n",
    "  return model\n",
    "\n",
    "\n",
    "model = create_model()\n",
    "model.summary()\n",
    "#model.get_weights()"
   ]
  },
  {
   "cell_type": "code",
   "execution_count": null,
   "metadata": {},
   "outputs": [],
   "source": [
    "# Training\n",
    "model.fit(Train_Input, Train_Label, epochs=500, verbose=2, batch_size=32)"
   ]
  },
  {
   "cell_type": "code",
   "execution_count": null,
   "metadata": {},
   "outputs": [],
   "source": [
    "# Test accuracy of trained model\n",
    "test_loss, test_acc = model.evaluate(Test_Input, Test_Label)\n",
    "print('Test accuracy:', test_acc)"
   ]
  },
  {
   "cell_type": "code",
   "execution_count": null,
   "metadata": {
    "scrolled": true
   },
   "outputs": [],
   "source": [
    "# Make prediction plots\n",
    "Train_pred = np.argmax(model.predict(Train_Input),axis=1)  \n",
    "Test_pred  = np.argmax(model.predict(Test_Input),axis=1)\n",
    "\n",
    "clist  = [colors[j] for j in Train_pred]\n",
    "fig = plt.figure(figsize=(8,8))\n",
    "plt.scatter(Train_Input[:,0], Train_Input[:,1], c=clist, cmap=matplotlib.colors.ListedColormap(colors)) \n",
    "\n",
    "clist  = [colors[j] for j in Test_pred]\n",
    "fig = plt.figure(figsize=(8,8))\n",
    "plt.scatter(Test_Input[:,0], Test_Input[:,1], c=clist, cmap=matplotlib.colors.ListedColormap(colors)) "
   ]
  }
 ],
 "metadata": {
  "kernelspec": {
   "display_name": "dl_venv",
   "language": "python",
   "name": "dl_venv"
  },
  "language_info": {
   "codemirror_mode": {
    "name": "ipython",
    "version": 2
   },
   "file_extension": ".py",
   "mimetype": "text/x-python",
   "name": "python",
   "nbconvert_exporter": "python",
   "pygments_lexer": "ipython2",
   "version": "2.7.14"
  }
 },
 "nbformat": 4,
 "nbformat_minor": 2
}
